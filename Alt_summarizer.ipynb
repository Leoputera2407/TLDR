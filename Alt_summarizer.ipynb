{
 "cells": [
  {
   "cell_type": "code",
   "execution_count": 1,
   "metadata": {},
   "outputs": [
    {
     "ename": "ImportError",
     "evalue": "cannot import name 'BartTokenizer' from 'transformers' (/Users/halim/.virtualenvs/summarizer_v2/lib/python3.7/site-packages/transformers/__init__.py)",
     "output_type": "error",
     "traceback": [
      "\u001b[0;31m---------------------------------------------------------------------------\u001b[0m",
      "\u001b[0;31mImportError\u001b[0m                               Traceback (most recent call last)",
      "\u001b[0;32m<ipython-input-1-a55446579ed1>\u001b[0m in \u001b[0;36m<module>\u001b[0;34m\u001b[0m\n\u001b[0;32m----> 1\u001b[0;31m \u001b[0;32mfrom\u001b[0m \u001b[0mtransformers\u001b[0m \u001b[0;32mimport\u001b[0m \u001b[0mBartTokenizer\u001b[0m\u001b[0;34m,\u001b[0m \u001b[0mBartForConditionalGeneration\u001b[0m\u001b[0;34m,\u001b[0m \u001b[0mBartConfig\u001b[0m\u001b[0;34m\u001b[0m\u001b[0;34m\u001b[0m\u001b[0m\n\u001b[0m\u001b[1;32m      2\u001b[0m \u001b[0;32mfrom\u001b[0m \u001b[0mtransformers\u001b[0m \u001b[0;32mimport\u001b[0m \u001b[0mT5Tokenizer\u001b[0m\u001b[0;34m,\u001b[0m \u001b[0mT5ForConditionalGeneration\u001b[0m\u001b[0;34m,\u001b[0m \u001b[0mT5Config\u001b[0m\u001b[0;34m\u001b[0m\u001b[0;34m\u001b[0m\u001b[0m\n\u001b[1;32m      3\u001b[0m \u001b[0;34m\u001b[0m\u001b[0m\n\u001b[1;32m      4\u001b[0m \u001b[0mBART_PATH\u001b[0m \u001b[0;34m=\u001b[0m \u001b[0;34m'bart-large'\u001b[0m\u001b[0;34m\u001b[0m\u001b[0;34m\u001b[0m\u001b[0m\n\u001b[1;32m      5\u001b[0m \u001b[0mT5_PATH\u001b[0m \u001b[0;34m=\u001b[0m \u001b[0;34m't5-base'\u001b[0m\u001b[0;34m\u001b[0m\u001b[0;34m\u001b[0m\u001b[0m\n",
      "\u001b[0;31mImportError\u001b[0m: cannot import name 'BartTokenizer' from 'transformers' (/Users/halim/.virtualenvs/summarizer_v2/lib/python3.7/site-packages/transformers/__init__.py)"
     ]
    }
   ],
   "source": [
    "from transformers import BartTokenizer, BartForConditionalGeneration, BartConfig\n",
    "from transformers import T5Tokenizer, T5ForConditionalGeneration, T5Config\n",
    "\n",
    "BART_PATH = 'bart-large'\n",
    "T5_PATH = 't5-base'\n",
    "f = open(\"facebook_2015.txt\",\"r\")\n",
    "full_text = f.read()\n",
    "\n",
    "bart_model = BartForConditionalGeneration.from_pretrained(BART_PATH, output_past=True)\n",
    "bart_tokenizer = BartTokenizer.from_pretrained(BART_PATH, output_past=True)\n",
    "\n",
    "\n",
    "t5_model = T5ForConditionalGeneration.from_pretrained(T5_PATH)\n",
    "t5_tokenizer = T5Tokenizer.from_pretrained(T5_PATH)\n",
    "device = torch.device('cuda' if torch.cuda.is_available() else 'cpu')\n",
    "\n",
    "\n",
    "def bart_summarize(input_text, num_beams=4, num_words=50):\n",
    "    input_text = str(input_text)\n",
    "    input_text = ' '.join(input_text.split())\n",
    "    input_tokenized = bart_tokenizer.encode(input_text, return_tensors='pt').to(device)\n",
    "    summary_ids = bart_model.generate(input_tokenized,\n",
    "                                      num_beams=int(num_beams),\n",
    "                                      no_repeat_ngram_size=3,\n",
    "                                      length_penalty=2.0,\n",
    "                                      min_length=30,\n",
    "                                      max_length=int(num_words),\n",
    "                                      early_stopping=True)\n",
    "    output = [bart_tokenizer.decode(g, skip_special_tokens=True, clean_up_tokenization_spaces=False) for g in summary_ids]\n",
    "    return output[0]\n",
    "\n",
    "\n",
    "def t5_summarize(input_text, num_beams=4, num_words=50):\n",
    "    input_text = str(input_text).replace('\\n', '')\n",
    "    input_text = ' '.join(input_text.split())\n",
    "    input_tokenized = t5_tokenizer.encode(input_text, return_tensors=\"pt\").to(device)\n",
    "    summary_task = torch.tensor([[21603, 10]]).to(device)\n",
    "    input_tokenized = torch.cat([summary_task, input_tokenized], dim=-1).to(device)\n",
    "    summary_ids = t5_model.generate(input_tokenized,\n",
    "                                    num_beams=int(num_beams),\n",
    "                                    no_repeat_ngram_size=3,\n",
    "                                    length_penalty=2.0,\n",
    "                                    min_length=30,\n",
    "                                    max_length=int(num_words),\n",
    "                                    early_stopping=True)\n",
    "    output = [t5_tokenizer.decode(g, skip_special_tokens=True, clean_up_tokenization_spaces=False) for g in summary_ids]\n",
    "    return output[0]\n",
    "\n",
    "bart_summarize(full_text)"
   ]
  },
  {
   "cell_type": "code",
   "execution_count": null,
   "metadata": {},
   "outputs": [],
   "source": []
  }
 ],
 "metadata": {
  "kernelspec": {
   "display_name": "summarizer_v2",
   "language": "python",
   "name": "summarizer_v2"
  },
  "language_info": {
   "codemirror_mode": {
    "name": "ipython",
    "version": 3
   },
   "file_extension": ".py",
   "mimetype": "text/x-python",
   "name": "python",
   "nbconvert_exporter": "python",
   "pygments_lexer": "ipython3",
   "version": "3.7.7"
  }
 },
 "nbformat": 4,
 "nbformat_minor": 4
}
